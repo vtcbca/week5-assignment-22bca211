{
 "cells": [
  {
   "cell_type": "code",
   "execution_count": 1,
   "id": "83cc2ca6",
   "metadata": {},
   "outputs": [],
   "source": [
    "import csv"
   ]
  },
  {
   "cell_type": "code",
   "execution_count": 2,
   "id": "907cff79",
   "metadata": {},
   "outputs": [],
   "source": [
    "r=[['1','om','bardoli',9081763545],\n",
    "   ['2','sai','surat',9925464749],\n",
    "   ['3','ram','mandavi',9934567823],\n",
    "   ['4','radha','vyara',8867584848],\n",
    "   ['5','kishan','maharasra',9081764546]];"
   ]
  },
  {
   "cell_type": "code",
   "execution_count": 3,
   "id": "3d7227dd",
   "metadata": {},
   "outputs": [
    {
     "name": "stdout",
     "output_type": "stream",
     "text": [
      "enter student id:6\n",
      "enter student name:arjun\n",
      "enter student city:surat\n",
      "enter student contact:9086758484\n",
      "enter student id:7\n",
      "enter student name:bhim\n",
      "enter student city:vyara\n",
      "enter student contact:8867564738\n",
      "enter student id:8\n",
      "enter student name:sita\n",
      "enter student city:bardoli\n",
      "enter student contact:7765875656\n",
      "enter student id:9\n",
      "enter student name:laxman\n",
      "enter student city:mandavi\n",
      "enter student contact:9988776655\n",
      "enter student id:10\n",
      "enter student name:kartik\n",
      "enter student city:surat\n",
      "enter student contact:9081564748\n"
     ]
    }
   ],
   "source": [
    "for i in range(5):\n",
    "    sid=int(input('enter student id:'))\n",
    "    sname=(input('enter student name:'))\n",
    "    city=(input('enter student city:'))\n",
    "    contact=int(input('enter student contact:'))\n",
    "    r.append((sid,sname,city,contact))"
   ]
  },
  {
   "cell_type": "code",
   "execution_count": 7,
   "id": "f28148ef",
   "metadata": {},
   "outputs": [],
   "source": [
    "with open('student.csv','w',newline='') as csvfile:\n",
    "    write_obj=csv.writer(csvfile)\n",
    "    header=['s_id','s_name','s_city','contact_no']\n",
    "    write_obj.writerow(header)\n",
    "    write_obj.writerows(r)"
   ]
  },
  {
   "cell_type": "code",
   "execution_count": 8,
   "id": "1c99e4ee",
   "metadata": {},
   "outputs": [
    {
     "name": "stdout",
     "output_type": "stream",
     "text": [
      "['s_id', 's_name', 's_city', 'contact_no']\n",
      "['1', 'om', 'bardoli', '9081763545']\n",
      "['2', 'sai', 'surat', '9925464749']\n",
      "['3', 'ram', 'mandavi', '9934567823']\n",
      "['4', 'radha', 'vyara', '8867584848']\n",
      "['5', 'kishan', 'maharasra', '9081764546']\n",
      "['6', 'arjun', 'surat', '9086758484']\n",
      "['7', 'bhim', 'vyara', '8867564738']\n",
      "['8', 'sita', 'bardoli', '7765875656']\n",
      "['9', 'laxman', 'mandavi', '9988776655']\n",
      "['10', 'kartik', 'surat', '9081564748']\n"
     ]
    }
   ],
   "source": [
    "with open('student.csv','r') as csvfile:\n",
    "    read_obj=csv.reader(csvfile)\n",
    "    for row in read_obj:\n",
    "        print(row)"
   ]
  },
  {
   "cell_type": "code",
   "execution_count": null,
   "id": "ac539b65",
   "metadata": {},
   "outputs": [],
   "source": []
  }
 ],
 "metadata": {
  "kernelspec": {
   "display_name": "Python 3 (ipykernel)",
   "language": "python",
   "name": "python3"
  },
  "language_info": {
   "codemirror_mode": {
    "name": "ipython",
    "version": 3
   },
   "file_extension": ".py",
   "mimetype": "text/x-python",
   "name": "python",
   "nbconvert_exporter": "python",
   "pygments_lexer": "ipython3",
   "version": "3.11.4"
  }
 },
 "nbformat": 4,
 "nbformat_minor": 5
}
